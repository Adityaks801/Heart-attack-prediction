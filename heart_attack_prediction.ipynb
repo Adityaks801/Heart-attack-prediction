{
 "cells": [
  {
   "cell_type": "markdown",
   "id": "ba4a1a51",
   "metadata": {
    "papermill": {
     "duration": 0.072319,
     "end_time": "2022-02-15T19:14:12.028935",
     "exception": false,
     "start_time": "2022-02-15T19:14:11.956616",
     "status": "completed"
    },
    "tags": []
   },
   "source": [
    "\n",
    "\n",
    "<img src=\"https://media.giphy.com/media/8cBhJBU2wlq6H6qY4W/giphy.gif\">\n",
    "\n",
    "Cardiovascular diseases (CVDs) are the number 1 cause of death globally, taking an estimated 17.9 million lives each year, which accounts for 31% of all deaths worldwide. Four out of 5CVD deaths are due to heart attacks and strokes, and one-third of these deaths occur prematurely in people under 70 years of age. Heart failure is a common event caused by CVDs and this dataset contains 11 features that can be used to predict a possible heart disease.\n",
    "\n",
    "People with cardiovascular disease or who are at high cardiovascular risk (due to the presence of one or more risk factors such as hypertension, diabetes, hyperlipidaemia or already established disease) need early detection and management wherein a machine learning model can be of great help\n",
    "\n",
    "# The Attributess include:\n",
    "- Age: age of the patient [years]\n",
    "- Sex: sex of the patient [M: Male, F: Female]\n",
    "- ChestPainType: chest pain type [TA: Typical Angina, ATA: Atypical Angina, NAP: Non-Anginal Pain, ASY: Asymptomatic]\n",
    "- RestingBP: resting blood pressure [mm Hg]\n",
    "- Cholesterol: serum cholesterol [mm/dl]\n",
    "- FastingBS: fasting blood sugar [1: if FastingBS > 120 mg/dl, 0: otherwise]\n",
    "- RestingECG: resting electrocardiogram results [Normal: Normal, ST: having ST-T wave abnormality (T wave inversions and/or ST elevation or depression of > 0.05 mV), LVH: showing probable or definite left ventricular hypertrophy by Estes' criteria]\n",
    "- MaxHR: maximum heart rate achieved [Numeric value between 60 and 202]\n",
    "- ExerciseAngina: exercise-induced angina [Y: Yes, N: No]\n",
    "- Oldpeak: oldpeak = ST [Numeric value measured in depression]\n",
    "- ST_Slope: the slope of the peak exercise ST segment [Up: upsloping, Flat: flat, Down:downsloping]\n",
    "- HeartDisease: output class [1: heart disease, 0: Normal]\n",
    "\n",
    "\n",
    "\n",
    "# Here in this Dataset we have a Supervised Machine Learning Problem, For Heart Failure Prediction\n"
   ]
  },
  {
   "cell_type": "markdown",
   "id": "29fb46f8",
   "metadata": {
    "papermill": {
     "duration": 0.064398,
     "end_time": "2022-02-15T19:14:12.164875",
     "exception": false,
     "start_time": "2022-02-15T19:14:12.100477",
     "status": "completed"
    },
    "tags": []
   },
   "source": [
    "# Importing all the libraries needed"
   ]
  },
  {
   "cell_type": "code",
   "execution_count": 1,
   "id": "6c335e99",
   "metadata": {
    "_cell_guid": "b1076dfc-b9ad-4769-8c92-a6c4dae69d19",
    "_uuid": "8f2839f25d086af736a60e9eeb907d3b93b6e0e5",
    "execution": {
     "iopub.execute_input": "2022-02-15T19:14:12.307824Z",
     "iopub.status.busy": "2022-02-15T19:14:12.305144Z",
     "iopub.status.idle": "2022-02-15T19:14:15.315983Z",
     "shell.execute_reply": "2022-02-15T19:14:15.315051Z",
     "shell.execute_reply.started": "2021-12-13T06:24:51.202619Z"
    },
    "papermill": {
     "duration": 3.084246,
     "end_time": "2022-02-15T19:14:15.316174",
     "exception": false,
     "start_time": "2022-02-15T19:14:12.231928",
     "status": "completed"
    },
    "tags": []
   },
   "outputs": [],
   "source": [
    "import os\n",
    "import numpy as np \n",
    "import pandas as pd \n",
    "import warnings\n",
    "import seaborn as sns\n",
    "import matplotlib.pyplot as plt\n",
    "import plotly.express as px\n",
    "warnings.filterwarnings(\"ignore\")\n",
    "pd.set_option(\"display.max_rows\",None)\n",
    "from sklearn import preprocessing\n",
    "import matplotlib \n",
    "matplotlib.style.use('ggplot')\n",
    "from sklearn.preprocessing import LabelEncoder"
   ]
  },
  {
   "cell_type": "markdown",
   "id": "b0788953",
   "metadata": {
    "execution": {
     "iopub.execute_input": "2021-12-11T18:28:55.671715Z",
     "iopub.status.busy": "2021-12-11T18:28:55.671258Z",
     "iopub.status.idle": "2021-12-11T18:28:56.739043Z",
     "shell.execute_reply": "2021-12-11T18:28:56.738347Z",
     "shell.execute_reply.started": "2021-12-11T18:28:55.671682Z"
    },
    "papermill": {
     "duration": 0.057808,
     "end_time": "2022-02-15T19:14:15.430461",
     "exception": false,
     "start_time": "2022-02-15T19:14:15.372653",
     "status": "completed"
    },
    "tags": []
   },
   "source": []
  },
  {
   "cell_type": "code",
   "execution_count": 2,
   "id": "ea826bad",
   "metadata": {
    "execution": {
     "iopub.execute_input": "2022-02-15T19:14:15.576850Z",
     "iopub.status.busy": "2022-02-15T19:14:15.575365Z",
     "iopub.status.idle": "2022-02-15T19:14:15.628018Z",
     "shell.execute_reply": "2022-02-15T19:14:15.628853Z",
     "shell.execute_reply.started": "2021-12-13T06:24:53.620313Z"
    },
    "papermill": {
     "duration": 0.139,
     "end_time": "2022-02-15T19:14:15.629109",
     "exception": false,
     "start_time": "2022-02-15T19:14:15.490109",
     "status": "completed"
    },
    "tags": []
   },
   "outputs": [
    {
     "data": {
      "text/html": [
       "<div>\n",
       "<style scoped>\n",
       "    .dataframe tbody tr th:only-of-type {\n",
       "        vertical-align: middle;\n",
       "    }\n",
       "\n",
       "    .dataframe tbody tr th {\n",
       "        vertical-align: top;\n",
       "    }\n",
       "\n",
       "    .dataframe thead th {\n",
       "        text-align: right;\n",
       "    }\n",
       "</style>\n",
       "<table border=\"1\" class=\"dataframe\">\n",
       "  <thead>\n",
       "    <tr style=\"text-align: right;\">\n",
       "      <th></th>\n",
       "      <th>age</th>\n",
       "      <th>sex</th>\n",
       "      <th>cp</th>\n",
       "      <th>trtbps</th>\n",
       "      <th>chol</th>\n",
       "      <th>fbs</th>\n",
       "      <th>restecg</th>\n",
       "      <th>thalachh</th>\n",
       "      <th>exng</th>\n",
       "      <th>oldpeak</th>\n",
       "      <th>slp</th>\n",
       "      <th>caa</th>\n",
       "      <th>thall</th>\n",
       "      <th>output</th>\n",
       "    </tr>\n",
       "  </thead>\n",
       "  <tbody>\n",
       "    <tr>\n",
       "      <th>0</th>\n",
       "      <td>63</td>\n",
       "      <td>1</td>\n",
       "      <td>3</td>\n",
       "      <td>145</td>\n",
       "      <td>233</td>\n",
       "      <td>1</td>\n",
       "      <td>0</td>\n",
       "      <td>150</td>\n",
       "      <td>0</td>\n",
       "      <td>2.3</td>\n",
       "      <td>0</td>\n",
       "      <td>0</td>\n",
       "      <td>1</td>\n",
       "      <td>1</td>\n",
       "    </tr>\n",
       "    <tr>\n",
       "      <th>1</th>\n",
       "      <td>37</td>\n",
       "      <td>1</td>\n",
       "      <td>2</td>\n",
       "      <td>130</td>\n",
       "      <td>250</td>\n",
       "      <td>0</td>\n",
       "      <td>1</td>\n",
       "      <td>187</td>\n",
       "      <td>0</td>\n",
       "      <td>3.5</td>\n",
       "      <td>0</td>\n",
       "      <td>0</td>\n",
       "      <td>2</td>\n",
       "      <td>1</td>\n",
       "    </tr>\n",
       "    <tr>\n",
       "      <th>2</th>\n",
       "      <td>41</td>\n",
       "      <td>0</td>\n",
       "      <td>1</td>\n",
       "      <td>130</td>\n",
       "      <td>204</td>\n",
       "      <td>0</td>\n",
       "      <td>0</td>\n",
       "      <td>172</td>\n",
       "      <td>0</td>\n",
       "      <td>1.4</td>\n",
       "      <td>2</td>\n",
       "      <td>0</td>\n",
       "      <td>2</td>\n",
       "      <td>1</td>\n",
       "    </tr>\n",
       "    <tr>\n",
       "      <th>3</th>\n",
       "      <td>56</td>\n",
       "      <td>1</td>\n",
       "      <td>1</td>\n",
       "      <td>120</td>\n",
       "      <td>236</td>\n",
       "      <td>0</td>\n",
       "      <td>1</td>\n",
       "      <td>178</td>\n",
       "      <td>0</td>\n",
       "      <td>0.8</td>\n",
       "      <td>2</td>\n",
       "      <td>0</td>\n",
       "      <td>2</td>\n",
       "      <td>1</td>\n",
       "    </tr>\n",
       "    <tr>\n",
       "      <th>4</th>\n",
       "      <td>57</td>\n",
       "      <td>0</td>\n",
       "      <td>0</td>\n",
       "      <td>120</td>\n",
       "      <td>354</td>\n",
       "      <td>0</td>\n",
       "      <td>1</td>\n",
       "      <td>163</td>\n",
       "      <td>1</td>\n",
       "      <td>0.6</td>\n",
       "      <td>2</td>\n",
       "      <td>0</td>\n",
       "      <td>2</td>\n",
       "      <td>1</td>\n",
       "    </tr>\n",
       "  </tbody>\n",
       "</table>\n",
       "</div>"
      ],
      "text/plain": [
       "   age  sex  cp  trtbps  chol  fbs  restecg  thalachh  exng  oldpeak  slp  \\\n",
       "0   63    1   3     145   233    1        0       150     0      2.3    0   \n",
       "1   37    1   2     130   250    0        1       187     0      3.5    0   \n",
       "2   41    0   1     130   204    0        0       172     0      1.4    2   \n",
       "3   56    1   1     120   236    0        1       178     0      0.8    2   \n",
       "4   57    0   0     120   354    0        1       163     1      0.6    2   \n",
       "\n",
       "   caa  thall  output  \n",
       "0    0      1       1  \n",
       "1    0      2       1  \n",
       "2    0      2       1  \n",
       "3    0      2       1  \n",
       "4    0      2       1  "
      ]
     },
     "execution_count": 2,
     "metadata": {},
     "output_type": "execute_result"
    }
   ],
   "source": [
    "df=pd.read_csv(r\"C:\\DataScience\\Project\\Heart_attack_prediction\\heart.csv\")\n",
    "df.head()"
   ]
  },
  {
   "cell_type": "code",
   "execution_count": 3,
   "id": "dc498e62",
   "metadata": {
    "execution": {
     "iopub.execute_input": "2022-02-15T19:14:15.892861Z",
     "iopub.status.busy": "2022-02-15T19:14:15.891857Z",
     "iopub.status.idle": "2022-02-15T19:14:15.895749Z",
     "shell.execute_reply": "2022-02-15T19:14:15.896328Z",
     "shell.execute_reply.started": "2021-12-13T06:24:53.664733Z"
    },
    "papermill": {
     "duration": 0.076154,
     "end_time": "2022-02-15T19:14:15.896517",
     "exception": false,
     "start_time": "2022-02-15T19:14:15.820363",
     "status": "completed"
    },
    "tags": []
   },
   "outputs": [
    {
     "data": {
      "text/plain": [
       "age           int64\n",
       "sex           int64\n",
       "cp            int64\n",
       "trtbps        int64\n",
       "chol          int64\n",
       "fbs           int64\n",
       "restecg       int64\n",
       "thalachh      int64\n",
       "exng          int64\n",
       "oldpeak     float64\n",
       "slp           int64\n",
       "caa           int64\n",
       "thall         int64\n",
       "output        int64\n",
       "dtype: object"
      ]
     },
     "execution_count": 3,
     "metadata": {},
     "output_type": "execute_result"
    }
   ],
   "source": [
    "df.dtypes"
   ]
  },
  {
   "cell_type": "markdown",
   "id": "fb1d3b3e",
   "metadata": {
    "papermill": {
     "duration": 0.064681,
     "end_time": "2022-02-15T19:14:16.026382",
     "exception": false,
     "start_time": "2022-02-15T19:14:15.961701",
     "status": "completed"
    },
    "tags": []
   },
   "source": [
    "As we can see the string data in the dataframe is in the form of object, we need to convert it back to string to work on it"
   ]
  },
  {
   "cell_type": "code",
   "execution_count": 4,
   "id": "cdc7f9df",
   "metadata": {
    "execution": {
     "iopub.execute_input": "2022-02-15T19:14:16.153094Z",
     "iopub.status.busy": "2022-02-15T19:14:16.152044Z",
     "iopub.status.idle": "2022-02-15T19:14:16.174606Z",
     "shell.execute_reply": "2022-02-15T19:14:16.173952Z",
     "shell.execute_reply.started": "2021-12-13T06:24:53.675495Z"
    },
    "papermill": {
     "duration": 0.083372,
     "end_time": "2022-02-15T19:14:16.174759",
     "exception": false,
     "start_time": "2022-02-15T19:14:16.091387",
     "status": "completed"
    },
    "tags": []
   },
   "outputs": [],
   "source": [
    "string_col = df.select_dtypes(include=\"object\").columns\n",
    "df[string_col]=df[string_col].astype(\"string\")"
   ]
  },
  {
   "cell_type": "code",
   "execution_count": 5,
   "id": "77487341",
   "metadata": {
    "execution": {
     "iopub.execute_input": "2022-02-15T19:14:16.301885Z",
     "iopub.status.busy": "2022-02-15T19:14:16.300939Z",
     "iopub.status.idle": "2022-02-15T19:14:16.304299Z",
     "shell.execute_reply": "2022-02-15T19:14:16.304803Z",
     "shell.execute_reply.started": "2021-12-13T06:24:53.703691Z"
    },
    "papermill": {
     "duration": 0.072738,
     "end_time": "2022-02-15T19:14:16.304975",
     "exception": false,
     "start_time": "2022-02-15T19:14:16.232237",
     "status": "completed"
    },
    "tags": []
   },
   "outputs": [
    {
     "data": {
      "text/plain": [
       "age           int64\n",
       "sex           int64\n",
       "cp            int64\n",
       "trtbps        int64\n",
       "chol          int64\n",
       "fbs           int64\n",
       "restecg       int64\n",
       "thalachh      int64\n",
       "exng          int64\n",
       "oldpeak     float64\n",
       "slp           int64\n",
       "caa           int64\n",
       "thall         int64\n",
       "output        int64\n",
       "dtype: object"
      ]
     },
     "execution_count": 5,
     "metadata": {},
     "output_type": "execute_result"
    }
   ],
   "source": [
    "df.dtypes"
   ]
  },
  {
   "cell_type": "code",
   "execution_count": 6,
   "id": "e652f990",
   "metadata": {
    "execution": {
     "iopub.execute_input": "2022-02-15T19:14:16.718527Z",
     "iopub.status.busy": "2022-02-15T19:14:16.715825Z",
     "iopub.status.idle": "2022-02-15T19:14:16.724111Z",
     "shell.execute_reply": "2022-02-15T19:14:16.724927Z",
     "shell.execute_reply.started": "2021-12-13T06:24:53.716556Z"
    },
    "papermill": {
     "duration": 0.079361,
     "end_time": "2022-02-15T19:14:16.725122",
     "exception": false,
     "start_time": "2022-02-15T19:14:16.645761",
     "status": "completed"
    },
    "tags": []
   },
   "outputs": [],
   "source": [
    "string_col=df.select_dtypes(\"string\").columns.to_list()"
   ]
  },
  {
   "cell_type": "code",
   "execution_count": 7,
   "id": "551f314d",
   "metadata": {
    "execution": {
     "iopub.execute_input": "2022-02-15T19:14:16.849187Z",
     "iopub.status.busy": "2022-02-15T19:14:16.848239Z",
     "iopub.status.idle": "2022-02-15T19:14:16.850708Z",
     "shell.execute_reply": "2022-02-15T19:14:16.851179Z",
     "shell.execute_reply.started": "2021-12-13T06:24:53.726402Z"
    },
    "papermill": {
     "duration": 0.065806,
     "end_time": "2022-02-15T19:14:16.851397",
     "exception": false,
     "start_time": "2022-02-15T19:14:16.785591",
     "status": "completed"
    },
    "tags": []
   },
   "outputs": [],
   "source": [
    "num_col=df.columns.to_list()\n",
    "#print(num_col)\n",
    "for col in string_col:\n",
    "    num_col.remove(col)\n"
   ]
  },
  {
   "cell_type": "code",
   "execution_count": 8,
   "id": "cfd38cf6",
   "metadata": {
    "execution": {
     "iopub.execute_input": "2022-02-15T19:14:16.980112Z",
     "iopub.status.busy": "2022-02-15T19:14:16.979024Z",
     "iopub.status.idle": "2022-02-15T19:14:17.011726Z",
     "shell.execute_reply": "2022-02-15T19:14:17.011004Z",
     "shell.execute_reply.started": "2021-12-13T06:24:53.737067Z"
    },
    "papermill": {
     "duration": 0.101266,
     "end_time": "2022-02-15T19:14:17.011892",
     "exception": false,
     "start_time": "2022-02-15T19:14:16.910626",
     "status": "completed"
    },
    "tags": []
   },
   "outputs": [
    {
     "data": {
      "text/html": [
       "<div>\n",
       "<style scoped>\n",
       "    .dataframe tbody tr th:only-of-type {\n",
       "        vertical-align: middle;\n",
       "    }\n",
       "\n",
       "    .dataframe tbody tr th {\n",
       "        vertical-align: top;\n",
       "    }\n",
       "\n",
       "    .dataframe thead th {\n",
       "        text-align: right;\n",
       "    }\n",
       "</style>\n",
       "<table border=\"1\" class=\"dataframe\">\n",
       "  <thead>\n",
       "    <tr style=\"text-align: right;\">\n",
       "      <th></th>\n",
       "      <th>count</th>\n",
       "      <th>mean</th>\n",
       "      <th>std</th>\n",
       "      <th>min</th>\n",
       "      <th>25%</th>\n",
       "      <th>50%</th>\n",
       "      <th>75%</th>\n",
       "      <th>max</th>\n",
       "    </tr>\n",
       "  </thead>\n",
       "  <tbody>\n",
       "    <tr>\n",
       "      <th>age</th>\n",
       "      <td>303.0</td>\n",
       "      <td>54.366337</td>\n",
       "      <td>9.082101</td>\n",
       "      <td>29.0</td>\n",
       "      <td>47.5</td>\n",
       "      <td>55.0</td>\n",
       "      <td>61.0</td>\n",
       "      <td>77.0</td>\n",
       "    </tr>\n",
       "    <tr>\n",
       "      <th>sex</th>\n",
       "      <td>303.0</td>\n",
       "      <td>0.683168</td>\n",
       "      <td>0.466011</td>\n",
       "      <td>0.0</td>\n",
       "      <td>0.0</td>\n",
       "      <td>1.0</td>\n",
       "      <td>1.0</td>\n",
       "      <td>1.0</td>\n",
       "    </tr>\n",
       "    <tr>\n",
       "      <th>cp</th>\n",
       "      <td>303.0</td>\n",
       "      <td>0.966997</td>\n",
       "      <td>1.032052</td>\n",
       "      <td>0.0</td>\n",
       "      <td>0.0</td>\n",
       "      <td>1.0</td>\n",
       "      <td>2.0</td>\n",
       "      <td>3.0</td>\n",
       "    </tr>\n",
       "    <tr>\n",
       "      <th>trtbps</th>\n",
       "      <td>303.0</td>\n",
       "      <td>131.623762</td>\n",
       "      <td>17.538143</td>\n",
       "      <td>94.0</td>\n",
       "      <td>120.0</td>\n",
       "      <td>130.0</td>\n",
       "      <td>140.0</td>\n",
       "      <td>200.0</td>\n",
       "    </tr>\n",
       "    <tr>\n",
       "      <th>chol</th>\n",
       "      <td>303.0</td>\n",
       "      <td>246.264026</td>\n",
       "      <td>51.830751</td>\n",
       "      <td>126.0</td>\n",
       "      <td>211.0</td>\n",
       "      <td>240.0</td>\n",
       "      <td>274.5</td>\n",
       "      <td>564.0</td>\n",
       "    </tr>\n",
       "    <tr>\n",
       "      <th>fbs</th>\n",
       "      <td>303.0</td>\n",
       "      <td>0.148515</td>\n",
       "      <td>0.356198</td>\n",
       "      <td>0.0</td>\n",
       "      <td>0.0</td>\n",
       "      <td>0.0</td>\n",
       "      <td>0.0</td>\n",
       "      <td>1.0</td>\n",
       "    </tr>\n",
       "    <tr>\n",
       "      <th>restecg</th>\n",
       "      <td>303.0</td>\n",
       "      <td>0.528053</td>\n",
       "      <td>0.525860</td>\n",
       "      <td>0.0</td>\n",
       "      <td>0.0</td>\n",
       "      <td>1.0</td>\n",
       "      <td>1.0</td>\n",
       "      <td>2.0</td>\n",
       "    </tr>\n",
       "    <tr>\n",
       "      <th>thalachh</th>\n",
       "      <td>303.0</td>\n",
       "      <td>149.646865</td>\n",
       "      <td>22.905161</td>\n",
       "      <td>71.0</td>\n",
       "      <td>133.5</td>\n",
       "      <td>153.0</td>\n",
       "      <td>166.0</td>\n",
       "      <td>202.0</td>\n",
       "    </tr>\n",
       "    <tr>\n",
       "      <th>exng</th>\n",
       "      <td>303.0</td>\n",
       "      <td>0.326733</td>\n",
       "      <td>0.469794</td>\n",
       "      <td>0.0</td>\n",
       "      <td>0.0</td>\n",
       "      <td>0.0</td>\n",
       "      <td>1.0</td>\n",
       "      <td>1.0</td>\n",
       "    </tr>\n",
       "    <tr>\n",
       "      <th>oldpeak</th>\n",
       "      <td>303.0</td>\n",
       "      <td>1.039604</td>\n",
       "      <td>1.161075</td>\n",
       "      <td>0.0</td>\n",
       "      <td>0.0</td>\n",
       "      <td>0.8</td>\n",
       "      <td>1.6</td>\n",
       "      <td>6.2</td>\n",
       "    </tr>\n",
       "    <tr>\n",
       "      <th>slp</th>\n",
       "      <td>303.0</td>\n",
       "      <td>1.399340</td>\n",
       "      <td>0.616226</td>\n",
       "      <td>0.0</td>\n",
       "      <td>1.0</td>\n",
       "      <td>1.0</td>\n",
       "      <td>2.0</td>\n",
       "      <td>2.0</td>\n",
       "    </tr>\n",
       "    <tr>\n",
       "      <th>caa</th>\n",
       "      <td>303.0</td>\n",
       "      <td>0.729373</td>\n",
       "      <td>1.022606</td>\n",
       "      <td>0.0</td>\n",
       "      <td>0.0</td>\n",
       "      <td>0.0</td>\n",
       "      <td>1.0</td>\n",
       "      <td>4.0</td>\n",
       "    </tr>\n",
       "    <tr>\n",
       "      <th>thall</th>\n",
       "      <td>303.0</td>\n",
       "      <td>2.313531</td>\n",
       "      <td>0.612277</td>\n",
       "      <td>0.0</td>\n",
       "      <td>2.0</td>\n",
       "      <td>2.0</td>\n",
       "      <td>3.0</td>\n",
       "      <td>3.0</td>\n",
       "    </tr>\n",
       "    <tr>\n",
       "      <th>output</th>\n",
       "      <td>303.0</td>\n",
       "      <td>0.544554</td>\n",
       "      <td>0.498835</td>\n",
       "      <td>0.0</td>\n",
       "      <td>0.0</td>\n",
       "      <td>1.0</td>\n",
       "      <td>1.0</td>\n",
       "      <td>1.0</td>\n",
       "    </tr>\n",
       "  </tbody>\n",
       "</table>\n",
       "</div>"
      ],
      "text/plain": [
       "          count        mean        std    min    25%    50%    75%    max\n",
       "age       303.0   54.366337   9.082101   29.0   47.5   55.0   61.0   77.0\n",
       "sex       303.0    0.683168   0.466011    0.0    0.0    1.0    1.0    1.0\n",
       "cp        303.0    0.966997   1.032052    0.0    0.0    1.0    2.0    3.0\n",
       "trtbps    303.0  131.623762  17.538143   94.0  120.0  130.0  140.0  200.0\n",
       "chol      303.0  246.264026  51.830751  126.0  211.0  240.0  274.5  564.0\n",
       "fbs       303.0    0.148515   0.356198    0.0    0.0    0.0    0.0    1.0\n",
       "restecg   303.0    0.528053   0.525860    0.0    0.0    1.0    1.0    2.0\n",
       "thalachh  303.0  149.646865  22.905161   71.0  133.5  153.0  166.0  202.0\n",
       "exng      303.0    0.326733   0.469794    0.0    0.0    0.0    1.0    1.0\n",
       "oldpeak   303.0    1.039604   1.161075    0.0    0.0    0.8    1.6    6.2\n",
       "slp       303.0    1.399340   0.616226    0.0    1.0    1.0    2.0    2.0\n",
       "caa       303.0    0.729373   1.022606    0.0    0.0    0.0    1.0    4.0\n",
       "thall     303.0    2.313531   0.612277    0.0    2.0    2.0    3.0    3.0\n",
       "output    303.0    0.544554   0.498835    0.0    0.0    1.0    1.0    1.0"
      ]
     },
     "execution_count": 8,
     "metadata": {},
     "output_type": "execute_result"
    }
   ],
   "source": [
    "df.describe().T"
   ]
  },
  {
   "cell_type": "markdown",
   "id": "a47a5c61",
   "metadata": {
    "papermill": {
     "duration": 0.066476,
     "end_time": "2022-02-15T19:14:17.134667",
     "exception": false,
     "start_time": "2022-02-15T19:14:17.068191",
     "status": "completed"
    },
    "tags": []
   },
   "source": []
  },
  {
   "cell_type": "markdown",
   "id": "aa4611a2",
   "metadata": {
    "papermill": {
     "duration": 0.065869,
     "end_time": "2022-02-15T19:14:17.259902",
     "exception": false,
     "start_time": "2022-02-15T19:14:17.194033",
     "status": "completed"
    },
    "tags": []
   },
   "source": [
    "# Exploratory Data Analysis\n",
    "\n",
    "<img src=\"https://media.giphy.com/media/HUplkVCPY7jTW/giphy.gif\">\n",
    "\n",
    "## First Question should be why do we need this ??\n",
    "\n",
    "Out Come of this phase is as given below : \n",
    "\n",
    "- Understanding the given dataset and helps clean up the given dataset.\n",
    "- It gives you a clear picture of the features and the relationships between them.\n",
    "- Providing guidelines for essential variables and leaving behind/removing non-essential variables.\n",
    "- Handling Missing values or human error.\n",
    "- Identifying outliers.\n",
    "- EDA process would be maximizing insights of a dataset.\n",
    "- This process is time-consuming but very effective,"
   ]
  },
  {
   "cell_type": "markdown",
   "id": "465d7fc2",
   "metadata": {
    "papermill": {
     "duration": 0.059012,
     "end_time": "2022-02-15T19:14:17.376948",
     "exception": false,
     "start_time": "2022-02-15T19:14:17.317936",
     "status": "completed"
    },
    "tags": []
   },
   "source": [
    "## Correlation Matrix\n",
    "### Its necessary to remove correlated variables to improve your model.One can find correlations using pandas “.corr()” function and can visualize the correlation matrix using plotly express.\n",
    "- Lighter shades represents positive correlation\n",
    "- Darker shades represents negative correlation"
   ]
  },
  {
   "cell_type": "code",
   "execution_count": 9,
   "id": "8d838003",
   "metadata": {
    "execution": {
     "iopub.execute_input": "2022-02-15T19:14:17.499408Z",
     "iopub.status.busy": "2022-02-15T19:14:17.498633Z",
     "iopub.status.idle": "2022-02-15T19:14:19.165319Z",
     "shell.execute_reply": "2022-02-15T19:14:19.164554Z",
     "shell.execute_reply.started": "2021-12-13T06:24:53.783224Z"
    },
    "papermill": {
     "duration": 1.732936,
     "end_time": "2022-02-15T19:14:19.165501",
     "exception": false,
     "start_time": "2022-02-15T19:14:17.432565",
     "status": "completed"
    },
    "tags": []
   },
   "outputs": [
    {
     "data": {
      "application/vnd.plotly.v1+json": {
       "config": {
        "plotlyServerURL": "https://plot.ly"
       },
       "data": [
        {
         "coloraxis": "coloraxis",
         "hovertemplate": "x: %{x}<br>y: %{y}<br>color: %{z}<extra></extra>",
         "name": "0",
         "type": "heatmap",
         "x": [
          "age",
          "sex",
          "cp",
          "trtbps",
          "chol",
          "fbs",
          "restecg",
          "thalachh",
          "exng",
          "oldpeak",
          "slp",
          "caa",
          "thall",
          "output"
         ],
         "xaxis": "x",
         "y": [
          "age",
          "sex",
          "cp",
          "trtbps",
          "chol",
          "fbs",
          "restecg",
          "thalachh",
          "exng",
          "oldpeak",
          "slp",
          "caa",
          "thall",
          "output"
         ],
         "yaxis": "y",
         "z": [
          [
           1,
           -0.09844660247479375,
           -0.06865301584014537,
           0.27935090656128797,
           0.2136779565595619,
           0.1213076480933747,
           -0.11621089815852946,
           -0.3985219381210681,
           0.09680082645526811,
           0.21001256735867396,
           -0.16881423801209605,
           0.27632624401913936,
           0.06800137705465205,
           -0.22543871587483838
          ],
          [
           -0.09844660247479375,
           1,
           -0.04935287534698945,
           -0.0567688239696438,
           -0.19791217414110693,
           0.04503178919356035,
           -0.058196267703754766,
           -0.04401990776957467,
           0.14166381099150557,
           0.09609287706773899,
           -0.030710567303172596,
           0.11826141332036008,
           0.21004109563720721,
           -0.28093657550176676
          ],
          [
           -0.06865301584014537,
           -0.04935287534698945,
           1,
           0.04760776064464909,
           -0.07690439103320765,
           0.09444403499533138,
           0.0444205925101639,
           0.29576212458791074,
           -0.39428026849502185,
           -0.14923015809708104,
           0.11971658853470653,
           -0.18105302605349538,
           -0.16173557051002235,
           0.43379826150689443
          ],
          [
           0.27935090656128797,
           -0.0567688239696438,
           0.04760776064464909,
           1,
           0.12317420653239047,
           0.1775305419344599,
           -0.11410278639187008,
           -0.04669772814795376,
           0.06761611953876327,
           0.19321647240953582,
           -0.12147458192644964,
           0.10138898530055088,
           0.062209887630861084,
           -0.14493112849775
          ],
          [
           0.2136779565595619,
           -0.19791217414110693,
           -0.07690439103320765,
           0.12317420653239047,
           1,
           0.013293602251671545,
           -0.15104007833751223,
           -0.009939838642698075,
           0.06702278257394262,
           0.05395191998699381,
           -0.004037770369683779,
           0.07051092522607601,
           0.09880299250014513,
           -0.08523910513756904
          ],
          [
           0.1213076480933747,
           0.04503178919356035,
           0.09444403499533138,
           0.1775305419344599,
           0.013293602251671545,
           1,
           -0.0841890544310268,
           -0.008567107343486924,
           0.025665147202126176,
           0.005747223459644359,
           -0.05989417829041802,
           0.1379793270278513,
           -0.03201933931349756,
           -0.028045760272712952
          ],
          [
           -0.11621089815852946,
           -0.058196267703754766,
           0.0444205925101639,
           -0.11410278639187008,
           -0.15104007833751223,
           -0.0841890544310268,
           1,
           0.04412344408543699,
           -0.07073285587236658,
           -0.05877022631983708,
           0.0930448209744822,
           -0.07204243324693001,
           -0.011981404599806436,
           0.1372295028737732
          ],
          [
           -0.3985219381210681,
           -0.04401990776957467,
           0.29576212458791074,
           -0.04669772814795376,
           -0.009939838642698075,
           -0.008567107343486924,
           0.04412344408543699,
           1,
           -0.3788120938514863,
           -0.34418694796671606,
           0.38678440981481926,
           -0.21317692811538935,
           -0.09643913165982082,
           0.4217409338106742
          ],
          [
           0.09680082645526811,
           0.14166381099150557,
           -0.39428026849502185,
           0.06761611953876327,
           0.06702278257394262,
           0.025665147202126176,
           -0.07073285587236658,
           -0.3788120938514863,
           1,
           0.28822280778276554,
           -0.25774836853016647,
           0.11573937807050606,
           0.20675378773953748,
           -0.43675708335330315
          ],
          [
           0.21001256735867396,
           0.09609287706773899,
           -0.14923015809708104,
           0.19321647240953582,
           0.05395191998699381,
           0.005747223459644359,
           -0.05877022631983708,
           -0.34418694796671606,
           0.28822280778276554,
           1,
           -0.5775368167291409,
           0.22268232182782355,
           0.21024412598264872,
           -0.4306960016873686
          ],
          [
           -0.16881423801209605,
           -0.030710567303172596,
           0.11971658853470653,
           -0.12147458192644964,
           -0.004037770369683779,
           -0.05989417829041802,
           0.0930448209744822,
           0.38678440981481926,
           -0.25774836853016647,
           -0.5775368167291409,
           1,
           -0.0801552102146397,
           -0.1047637946214955,
           0.34587707824172464
          ],
          [
           0.27632624401913936,
           0.11826141332036008,
           -0.18105302605349538,
           0.10138898530055088,
           0.07051092522607601,
           0.1379793270278513,
           -0.07204243324693001,
           -0.21317692811538935,
           0.11573937807050606,
           0.22268232182782355,
           -0.0801552102146397,
           1,
           0.15183212548208916,
           -0.39172399235125244
          ],
          [
           0.06800137705465205,
           0.21004109563720721,
           -0.16173557051002235,
           0.062209887630861084,
           0.09880299250014513,
           -0.03201933931349756,
           -0.011981404599806436,
           -0.09643913165982082,
           0.20675378773953748,
           0.21024412598264872,
           -0.1047637946214955,
           0.15183212548208916,
           1,
           -0.34402926803830997
          ],
          [
           -0.22543871587483838,
           -0.28093657550176676,
           0.43379826150689443,
           -0.14493112849775,
           -0.08523910513756904,
           -0.028045760272712952,
           0.1372295028737732,
           0.4217409338106742,
           -0.43675708335330315,
           -0.4306960016873686,
           0.34587707824172464,
           -0.39172399235125244,
           -0.34402926803830997,
           1
          ]
         ]
        }
       ],
       "layout": {
        "coloraxis": {
         "colorscale": [
          [
           0,
           "#0d0887"
          ],
          [
           0.1111111111111111,
           "#46039f"
          ],
          [
           0.2222222222222222,
           "#7201a8"
          ],
          [
           0.3333333333333333,
           "#9c179e"
          ],
          [
           0.4444444444444444,
           "#bd3786"
          ],
          [
           0.5555555555555556,
           "#d8576b"
          ],
          [
           0.6666666666666666,
           "#ed7953"
          ],
          [
           0.7777777777777778,
           "#fb9f3a"
          ],
          [
           0.8888888888888888,
           "#fdca26"
          ],
          [
           1,
           "#f0f921"
          ]
         ]
        },
        "template": {
         "data": {
          "bar": [
           {
            "error_x": {
             "color": "#2a3f5f"
            },
            "error_y": {
             "color": "#2a3f5f"
            },
            "marker": {
             "line": {
              "color": "#E5ECF6",
              "width": 0.5
             },
             "pattern": {
              "fillmode": "overlay",
              "size": 10,
              "solidity": 0.2
             }
            },
            "type": "bar"
           }
          ],
          "barpolar": [
           {
            "marker": {
             "line": {
              "color": "#E5ECF6",
              "width": 0.5
             },
             "pattern": {
              "fillmode": "overlay",
              "size": 10,
              "solidity": 0.2
             }
            },
            "type": "barpolar"
           }
          ],
          "carpet": [
           {
            "aaxis": {
             "endlinecolor": "#2a3f5f",
             "gridcolor": "white",
             "linecolor": "white",
             "minorgridcolor": "white",
             "startlinecolor": "#2a3f5f"
            },
            "baxis": {
             "endlinecolor": "#2a3f5f",
             "gridcolor": "white",
             "linecolor": "white",
             "minorgridcolor": "white",
             "startlinecolor": "#2a3f5f"
            },
            "type": "carpet"
           }
          ],
          "choropleth": [
           {
            "colorbar": {
             "outlinewidth": 0,
             "ticks": ""
            },
            "type": "choropleth"
           }
          ],
          "contour": [
           {
            "colorbar": {
             "outlinewidth": 0,
             "ticks": ""
            },
            "colorscale": [
             [
              0,
              "#0d0887"
             ],
             [
              0.1111111111111111,
              "#46039f"
             ],
             [
              0.2222222222222222,
              "#7201a8"
             ],
             [
              0.3333333333333333,
              "#9c179e"
             ],
             [
              0.4444444444444444,
              "#bd3786"
             ],
             [
              0.5555555555555556,
              "#d8576b"
             ],
             [
              0.6666666666666666,
              "#ed7953"
             ],
             [
              0.7777777777777778,
              "#fb9f3a"
             ],
             [
              0.8888888888888888,
              "#fdca26"
             ],
             [
              1,
              "#f0f921"
             ]
            ],
            "type": "contour"
           }
          ],
          "contourcarpet": [
           {
            "colorbar": {
             "outlinewidth": 0,
             "ticks": ""
            },
            "type": "contourcarpet"
           }
          ],
          "heatmap": [
           {
            "colorbar": {
             "outlinewidth": 0,
             "ticks": ""
            },
            "colorscale": [
             [
              0,
              "#0d0887"
             ],
             [
              0.1111111111111111,
              "#46039f"
             ],
             [
              0.2222222222222222,
              "#7201a8"
             ],
             [
              0.3333333333333333,
              "#9c179e"
             ],
             [
              0.4444444444444444,
              "#bd3786"
             ],
             [
              0.5555555555555556,
              "#d8576b"
             ],
             [
              0.6666666666666666,
              "#ed7953"
             ],
             [
              0.7777777777777778,
              "#fb9f3a"
             ],
             [
              0.8888888888888888,
              "#fdca26"
             ],
             [
              1,
              "#f0f921"
             ]
            ],
            "type": "heatmap"
           }
          ],
          "heatmapgl": [
           {
            "colorbar": {
             "outlinewidth": 0,
             "ticks": ""
            },
            "colorscale": [
             [
              0,
              "#0d0887"
             ],
             [
              0.1111111111111111,
              "#46039f"
             ],
             [
              0.2222222222222222,
              "#7201a8"
             ],
             [
              0.3333333333333333,
              "#9c179e"
             ],
             [
              0.4444444444444444,
              "#bd3786"
             ],
             [
              0.5555555555555556,
              "#d8576b"
             ],
             [
              0.6666666666666666,
              "#ed7953"
             ],
             [
              0.7777777777777778,
              "#fb9f3a"
             ],
             [
              0.8888888888888888,
              "#fdca26"
             ],
             [
              1,
              "#f0f921"
             ]
            ],
            "type": "heatmapgl"
           }
          ],
          "histogram": [
           {
            "marker": {
             "pattern": {
              "fillmode": "overlay",
              "size": 10,
              "solidity": 0.2
             }
            },
            "type": "histogram"
           }
          ],
          "histogram2d": [
           {
            "colorbar": {
             "outlinewidth": 0,
             "ticks": ""
            },
            "colorscale": [
             [
              0,
              "#0d0887"
             ],
             [
              0.1111111111111111,
              "#46039f"
             ],
             [
              0.2222222222222222,
              "#7201a8"
             ],
             [
              0.3333333333333333,
              "#9c179e"
             ],
             [
              0.4444444444444444,
              "#bd3786"
             ],
             [
              0.5555555555555556,
              "#d8576b"
             ],
             [
              0.6666666666666666,
              "#ed7953"
             ],
             [
              0.7777777777777778,
              "#fb9f3a"
             ],
             [
              0.8888888888888888,
              "#fdca26"
             ],
             [
              1,
              "#f0f921"
             ]
            ],
            "type": "histogram2d"
           }
          ],
          "histogram2dcontour": [
           {
            "colorbar": {
             "outlinewidth": 0,
             "ticks": ""
            },
            "colorscale": [
             [
              0,
              "#0d0887"
             ],
             [
              0.1111111111111111,
              "#46039f"
             ],
             [
              0.2222222222222222,
              "#7201a8"
             ],
             [
              0.3333333333333333,
              "#9c179e"
             ],
             [
              0.4444444444444444,
              "#bd3786"
             ],
             [
              0.5555555555555556,
              "#d8576b"
             ],
             [
              0.6666666666666666,
              "#ed7953"
             ],
             [
              0.7777777777777778,
              "#fb9f3a"
             ],
             [
              0.8888888888888888,
              "#fdca26"
             ],
             [
              1,
              "#f0f921"
             ]
            ],
            "type": "histogram2dcontour"
           }
          ],
          "mesh3d": [
           {
            "colorbar": {
             "outlinewidth": 0,
             "ticks": ""
            },
            "type": "mesh3d"
           }
          ],
          "parcoords": [
           {
            "line": {
             "colorbar": {
              "outlinewidth": 0,
              "ticks": ""
             }
            },
            "type": "parcoords"
           }
          ],
          "pie": [
           {
            "automargin": true,
            "type": "pie"
           }
          ],
          "scatter": [
           {
            "fillpattern": {
             "fillmode": "overlay",
             "size": 10,
             "solidity": 0.2
            },
            "type": "scatter"
           }
          ],
          "scatter3d": [
           {
            "line": {
             "colorbar": {
              "outlinewidth": 0,
              "ticks": ""
             }
            },
            "marker": {
             "colorbar": {
              "outlinewidth": 0,
              "ticks": ""
             }
            },
            "type": "scatter3d"
           }
          ],
          "scattercarpet": [
           {
            "marker": {
             "colorbar": {
              "outlinewidth": 0,
              "ticks": ""
             }
            },
            "type": "scattercarpet"
           }
          ],
          "scattergeo": [
           {
            "marker": {
             "colorbar": {
              "outlinewidth": 0,
              "ticks": ""
             }
            },
            "type": "scattergeo"
           }
          ],
          "scattergl": [
           {
            "marker": {
             "colorbar": {
              "outlinewidth": 0,
              "ticks": ""
             }
            },
            "type": "scattergl"
           }
          ],
          "scattermapbox": [
           {
            "marker": {
             "colorbar": {
              "outlinewidth": 0,
              "ticks": ""
             }
            },
            "type": "scattermapbox"
           }
          ],
          "scatterpolar": [
           {
            "marker": {
             "colorbar": {
              "outlinewidth": 0,
              "ticks": ""
             }
            },
            "type": "scatterpolar"
           }
          ],
          "scatterpolargl": [
           {
            "marker": {
             "colorbar": {
              "outlinewidth": 0,
              "ticks": ""
             }
            },
            "type": "scatterpolargl"
           }
          ],
          "scatterternary": [
           {
            "marker": {
             "colorbar": {
              "outlinewidth": 0,
              "ticks": ""
             }
            },
            "type": "scatterternary"
           }
          ],
          "surface": [
           {
            "colorbar": {
             "outlinewidth": 0,
             "ticks": ""
            },
            "colorscale": [
             [
              0,
              "#0d0887"
             ],
             [
              0.1111111111111111,
              "#46039f"
             ],
             [
              0.2222222222222222,
              "#7201a8"
             ],
             [
              0.3333333333333333,
              "#9c179e"
             ],
             [
              0.4444444444444444,
              "#bd3786"
             ],
             [
              0.5555555555555556,
              "#d8576b"
             ],
             [
              0.6666666666666666,
              "#ed7953"
             ],
             [
              0.7777777777777778,
              "#fb9f3a"
             ],
             [
              0.8888888888888888,
              "#fdca26"
             ],
             [
              1,
              "#f0f921"
             ]
            ],
            "type": "surface"
           }
          ],
          "table": [
           {
            "cells": {
             "fill": {
              "color": "#EBF0F8"
             },
             "line": {
              "color": "white"
             }
            },
            "header": {
             "fill": {
              "color": "#C8D4E3"
             },
             "line": {
              "color": "white"
             }
            },
            "type": "table"
           }
          ]
         },
         "layout": {
          "annotationdefaults": {
           "arrowcolor": "#2a3f5f",
           "arrowhead": 0,
           "arrowwidth": 1
          },
          "autotypenumbers": "strict",
          "coloraxis": {
           "colorbar": {
            "outlinewidth": 0,
            "ticks": ""
           }
          },
          "colorscale": {
           "diverging": [
            [
             0,
             "#8e0152"
            ],
            [
             0.1,
             "#c51b7d"
            ],
            [
             0.2,
             "#de77ae"
            ],
            [
             0.3,
             "#f1b6da"
            ],
            [
             0.4,
             "#fde0ef"
            ],
            [
             0.5,
             "#f7f7f7"
            ],
            [
             0.6,
             "#e6f5d0"
            ],
            [
             0.7,
             "#b8e186"
            ],
            [
             0.8,
             "#7fbc41"
            ],
            [
             0.9,
             "#4d9221"
            ],
            [
             1,
             "#276419"
            ]
           ],
           "sequential": [
            [
             0,
             "#0d0887"
            ],
            [
             0.1111111111111111,
             "#46039f"
            ],
            [
             0.2222222222222222,
             "#7201a8"
            ],
            [
             0.3333333333333333,
             "#9c179e"
            ],
            [
             0.4444444444444444,
             "#bd3786"
            ],
            [
             0.5555555555555556,
             "#d8576b"
            ],
            [
             0.6666666666666666,
             "#ed7953"
            ],
            [
             0.7777777777777778,
             "#fb9f3a"
            ],
            [
             0.8888888888888888,
             "#fdca26"
            ],
            [
             1,
             "#f0f921"
            ]
           ],
           "sequentialminus": [
            [
             0,
             "#0d0887"
            ],
            [
             0.1111111111111111,
             "#46039f"
            ],
            [
             0.2222222222222222,
             "#7201a8"
            ],
            [
             0.3333333333333333,
             "#9c179e"
            ],
            [
             0.4444444444444444,
             "#bd3786"
            ],
            [
             0.5555555555555556,
             "#d8576b"
            ],
            [
             0.6666666666666666,
             "#ed7953"
            ],
            [
             0.7777777777777778,
             "#fb9f3a"
            ],
            [
             0.8888888888888888,
             "#fdca26"
            ],
            [
             1,
             "#f0f921"
            ]
           ]
          },
          "colorway": [
           "#636efa",
           "#EF553B",
           "#00cc96",
           "#ab63fa",
           "#FFA15A",
           "#19d3f3",
           "#FF6692",
           "#B6E880",
           "#FF97FF",
           "#FECB52"
          ],
          "font": {
           "color": "#2a3f5f"
          },
          "geo": {
           "bgcolor": "white",
           "lakecolor": "white",
           "landcolor": "#E5ECF6",
           "showlakes": true,
           "showland": true,
           "subunitcolor": "white"
          },
          "hoverlabel": {
           "align": "left"
          },
          "hovermode": "closest",
          "mapbox": {
           "style": "light"
          },
          "paper_bgcolor": "white",
          "plot_bgcolor": "#E5ECF6",
          "polar": {
           "angularaxis": {
            "gridcolor": "white",
            "linecolor": "white",
            "ticks": ""
           },
           "bgcolor": "#E5ECF6",
           "radialaxis": {
            "gridcolor": "white",
            "linecolor": "white",
            "ticks": ""
           }
          },
          "scene": {
           "xaxis": {
            "backgroundcolor": "#E5ECF6",
            "gridcolor": "white",
            "gridwidth": 2,
            "linecolor": "white",
            "showbackground": true,
            "ticks": "",
            "zerolinecolor": "white"
           },
           "yaxis": {
            "backgroundcolor": "#E5ECF6",
            "gridcolor": "white",
            "gridwidth": 2,
            "linecolor": "white",
            "showbackground": true,
            "ticks": "",
            "zerolinecolor": "white"
           },
           "zaxis": {
            "backgroundcolor": "#E5ECF6",
            "gridcolor": "white",
            "gridwidth": 2,
            "linecolor": "white",
            "showbackground": true,
            "ticks": "",
            "zerolinecolor": "white"
           }
          },
          "shapedefaults": {
           "line": {
            "color": "#2a3f5f"
           }
          },
          "ternary": {
           "aaxis": {
            "gridcolor": "white",
            "linecolor": "white",
            "ticks": ""
           },
           "baxis": {
            "gridcolor": "white",
            "linecolor": "white",
            "ticks": ""
           },
           "bgcolor": "#E5ECF6",
           "caxis": {
            "gridcolor": "white",
            "linecolor": "white",
            "ticks": ""
           }
          },
          "title": {
           "x": 0.05
          },
          "xaxis": {
           "automargin": true,
           "gridcolor": "white",
           "linecolor": "white",
           "ticks": "",
           "title": {
            "standoff": 15
           },
           "zerolinecolor": "white",
           "zerolinewidth": 2
          },
          "yaxis": {
           "automargin": true,
           "gridcolor": "white",
           "linecolor": "white",
           "ticks": "",
           "title": {
            "standoff": 15
           },
           "zerolinecolor": "white",
           "zerolinewidth": 2
          }
         }
        },
        "title": {
         "text": "Correlation Plot of the Heat Failure Prediction"
        },
        "xaxis": {
         "anchor": "y",
         "constrain": "domain",
         "domain": [
          0,
          1
         ],
         "scaleanchor": "y"
        },
        "yaxis": {
         "anchor": "x",
         "autorange": "reversed",
         "constrain": "domain",
         "domain": [
          0,
          1
         ]
        }
       }
      }
     },
     "metadata": {},
     "output_type": "display_data"
    }
   ],
   "source": [
    "px.imshow(df.corr(),title=\"Correlation Plot of the Heat Failure Prediction\")"
   ]
  },
  {
   "cell_type": "markdown",
   "id": "6455d095",
   "metadata": {
    "papermill": {
     "duration": 0.064088,
     "end_time": "2022-02-15T19:14:19.288856",
     "exception": false,
     "start_time": "2022-02-15T19:14:19.224768",
     "status": "completed"
    },
    "tags": []
   },
   "source": [
    "Here we can see Heart Disease has a high negative correlation with \"MaxHR\" and somewhat negative correlation wiht \"Cholesterol\", where as here positive correatlation with \"Oldpeak\",\"FastingBS\" and \"RestingBP\""
   ]
  },
  {
   "cell_type": "code",
   "execution_count": 10,
   "id": "08726fb8",
   "metadata": {
    "execution": {
     "iopub.execute_input": "2022-02-15T19:14:19.423097Z",
     "iopub.status.busy": "2022-02-15T19:14:19.422270Z",
     "iopub.status.idle": "2022-02-15T19:14:19.578704Z",
     "shell.execute_reply": "2022-02-15T19:14:19.578022Z",
     "shell.execute_reply.started": "2021-12-13T06:24:54.917868Z"
    },
    "papermill": {
     "duration": 0.221735,
     "end_time": "2022-02-15T19:14:19.578869",
     "exception": false,
     "start_time": "2022-02-15T19:14:19.357134",
     "status": "completed"
    },
    "tags": []
   },
   "outputs": [
    {
     "name": "stdout",
     "output_type": "stream",
     "text": [
      "Number of people having sex as 1 are 96 and Number of people having sex as 0 are 207\n"
     ]
    },
    {
     "data": {
      "image/png": "[encoded data removed]",
      "text/plain": [
       "<Figure size 640x480 with 1 Axes>"
      ]
     },
     "metadata": {},
     "output_type": "display_data"
    }
   ],
   "source": [
    "# Shows the Distribution of Heat Diseases with respect to male and female\n",
    "x=(df.sex.value_counts())\n",
    "print(f'Number of people having sex as 1 are {x[0]} and Number of people having sex as 0 are {x[1]}')\n",
    "p = sns.countplot(data=df, x=\"sex\")\n",
    "plt.show()\n"
   ]
  },
  {
   "cell_type": "markdown",
   "id": "61a39e51",
   "metadata": {},
   "source": [
    "# \n",
    "- cp: Chest pain type\n",
    "- 0 = Typical Angina\n",
    "- 1 = Atypical Angina \n",
    "- 2 = Non-anginal Pain \n",
    "- 3 = Asymptomatic"
   ]
  },
  {
   "cell_type": "code",
   "execution_count": 11,
   "id": "ebb68494",
   "metadata": {
    "execution": {
     "iopub.execute_input": "2022-02-15T19:14:19.713870Z",
     "iopub.status.busy": "2022-02-15T19:14:19.713068Z",
     "iopub.status.idle": "2022-02-15T19:14:19.796948Z",
     "shell.execute_reply": "2022-02-15T19:14:19.796220Z",
     "shell.execute_reply.started": "2021-12-13T06:24:55.052596Z"
    },
    "papermill": {
     "duration": 0.156891,
     "end_time": "2022-02-15T19:14:19.797128",
     "exception": false,
     "start_time": "2022-02-15T19:14:19.640237",
     "status": "completed"
    },
    "tags": []
   },
   "outputs": [
    {
     "name": "stdout",
     "output_type": "stream",
     "text": [
      "0    143\n",
      "2     87\n",
      "1     50\n",
      "3     23\n",
      "Name: cp, dtype: int64\n"
     ]
    },
    {
     "data": {
      "image/png": "[encoded data removed]",
      "text/plain": [
       "<Figure size 640x480 with 1 Axes>"
      ]
     },
     "metadata": {},
     "output_type": "display_data"
    }
   ],
   "source": [
    "x=(df.cp.value_counts())\n",
    "print(x)\n",
    "p = sns.countplot(data=df, x=\"cp\")\n",
    "plt.show()\n"
   ]
  },
  {
   "cell_type": "markdown",
   "id": "4a5d2022",
   "metadata": {},
   "source": [
    "#### :\n",
    "- It can be observed people have chest pain of type 0 i.e 'Typical Angina' is the highest.\n",
    "- It can be observed people have chest pain of type 3 i.e 'Asymptomatic' is the lowest\n",
    "- It can also be observed people with chest pain of type 0 is almost 50% of all the people."
   ]
  },
  {
   "cell_type": "markdown",
   "id": "6a2d03ed",
   "metadata": {},
   "source": [
    "### Breakdown of FBS\n"
   ]
  },
  {
   "cell_type": "code",
   "execution_count": 12,
   "id": "680c2395",
   "metadata": {},
   "outputs": [
    {
     "name": "stdout",
     "output_type": "stream",
     "text": [
      "0    258\n",
      "1     45\n",
      "Name: fbs, dtype: int64\n"
     ]
    },
    {
     "data": {
      "image/png": "[encoded data removed]",
      "text/plain": [
       "<Figure size 640x480 with 1 Axes>"
      ]
     },
     "metadata": {},
     "output_type": "display_data"
    }
   ],
   "source": [
    "x=(df.fbs.value_counts())\n",
    "print(x)\n",
    "p = sns.countplot(data=df, x=\"fbs\")\n",
    "plt.show()"
   ]
  },
  {
   "cell_type": "markdown",
   "id": "6c4914ac",
   "metadata": {},
   "source": [
    "### Density distribution for Age\n",
    "\n"
   ]
  },
  {
   "cell_type": "code",
   "execution_count": 13,
   "id": "a3e46a4b",
   "metadata": {},
   "outputs": [
    {
     "data": {
      "text/plain": [
       "<matplotlib.legend.Legend at 0x18f5b8cae00>"
      ]
     },
     "execution_count": 13,
     "metadata": {},
     "output_type": "execute_result"
    },
    {
     "data": {
      "text/plain": [
       "<Figure size 1000x1000 with 0 Axes>"
      ]
     },
     "metadata": {},
     "output_type": "display_data"
    },
    {
     "data": {
      "image/png": "[encoded data removed]",
      "text/plain": [
       "<Figure size 500x500 with 1 Axes>"
      ]
     },
     "metadata": {},
     "output_type": "display_data"
    }
   ],
   "source": [
    "plt.figure(figsize=(10,10))\n",
    "sns.displot(df.age, color=\"red\", label=\"age\", kde= True)\n",
    "plt.legend()"
   ]
  },
  {
   "cell_type": "markdown",
   "id": "c068dd9e",
   "metadata": {},
   "source": [
    "### Density distribution is highest for age group 55 to 60\n"
   ]
  },
  {
   "cell_type": "code",
   "execution_count": 14,
   "id": "82775392",
   "metadata": {},
   "outputs": [
    {
     "data": {
      "image/png": "[encoded data removed]",
      "text/plain": [
       "<Figure size 1000x1000 with 1 Axes>"
      ]
     },
     "metadata": {},
     "output_type": "display_data"
    }
   ],
   "source": [
    "plt.figure(figsize=(10,10))\n",
    "sns.distplot(df[df['output'] == 0][\"age\"], color='green',kde=True,)\n",
    "sns.distplot(df[df['output'] == 1][\"age\"], color='red',kde=True)\n",
    "plt.title('Attack versus Age')\n",
    "plt.show()"
   ]
  },
  {
   "cell_type": "markdown",
   "id": "40bbc762",
   "metadata": {},
   "source": [
    "# Data preprocessing"
   ]
  },
  {
   "cell_type": "code",
   "execution_count": 15,
   "id": "dbaaddda",
   "metadata": {},
   "outputs": [],
   "source": [
    "x = df.iloc[:, 1:-1].values\n",
    "y = df.iloc[:, -1].values"
   ]
  },
  {
   "cell_type": "code",
   "execution_count": 16,
   "id": "bce0d583",
   "metadata": {},
   "outputs": [
    {
     "name": "stdout",
     "output_type": "stream",
     "text": [
      "done\n"
     ]
    }
   ],
   "source": [
    "from sklearn.model_selection import train_test_split\n",
    "from sklearn.preprocessing import StandardScaler\n",
    "\n",
    "from sklearn.linear_model import LogisticRegression\n",
    "from sklearn.naive_bayes import GaussianNB\n",
    "from sklearn.ensemble import RandomForestClassifier\n",
    "from sklearn.svm import SVC\n",
    "from sklearn.neighbors import KNeighborsClassifier\n",
    "from catboost import CatBoostClassifier\n",
    "from sklearn.ensemble import GradientBoostingClassifier\n",
    "from xgboost import XGBClassifier\n",
    "from sklearn.naive_bayes import BernoulliNB\n",
    "\n",
    "from sklearn.metrics import accuracy_score, precision_score, recall_score\n",
    "print(\"done\")"
   ]
  },
  {
   "cell_type": "code",
   "execution_count": 17,
   "id": "90b589d6",
   "metadata": {},
   "outputs": [
    {
     "name": "stdout",
     "output_type": "stream",
     "text": [
      "Logistic Regression Metrics:\n",
      "Accuracy: 0.87\n",
      "Precision: 0.88\n",
      "Recall: 0.88\n",
      "----------------------------------------\n",
      "xgb_classifier Metrics:\n",
      "Accuracy: 0.82\n",
      "Precision: 0.81\n",
      "Recall: 0.85\n",
      "----------------------------------------\n",
      "GaussianNB Metrics:\n",
      "Accuracy: 0.88\n",
      "Precision: 0.90\n",
      "Recall: 0.88\n",
      "----------------------------------------\n",
      "Random Forest Metrics:\n",
      "Accuracy: 0.83\n",
      "Precision: 0.82\n",
      "Recall: 0.88\n",
      "----------------------------------------\n",
      "K-NN Metrics:\n",
      "Accuracy: 0.89\n",
      "Precision: 0.90\n",
      "Recall: 0.90\n",
      "----------------------------------------\n",
      "CatBoost Metrics:\n",
      "Accuracy: 0.80\n",
      "Precision: 0.84\n",
      "Recall: 0.78\n",
      "----------------------------------------\n",
      "SVM Metrics:\n",
      "Accuracy: 0.88\n",
      "Precision: 0.88\n",
      "Recall: 0.90\n",
      "----------------------------------------\n",
      "Gradient Classifier Metrics:\n",
      "Accuracy: 0.76\n",
      "Precision: 0.78\n",
      "Recall: 0.78\n",
      "----------------------------------------\n",
      "bernoulli naive bayes Metrics:\n",
      "Accuracy: 0.86\n",
      "Precision: 0.84\n",
      "Recall: 0.90\n",
      "----------------------------------------\n"
     ]
    }
   ],
   "source": [
    "\n",
    "\n",
    "X = df.drop('output', axis=1)\n",
    "y = df.output\n",
    "\n",
    "\n",
    "standard_scaler = StandardScaler()\n",
    "X = standard_scaler.fit_transform(X)\n",
    "\n",
    "X_train, X_test, y_train, y_test = train_test_split(X, y, test_size=0.25, random_state=42)\n",
    "models = {\n",
    "    'Logistic Regression': LogisticRegression(),\n",
    "    'xgb_classifier' : XGBClassifier(),\n",
    "    'GaussianNB': GaussianNB(),\n",
    "    'Random Forest': RandomForestClassifier(random_state=42),\n",
    "    'K-NN': KNeighborsClassifier(),\n",
    "    'CatBoost': CatBoostClassifier(iterations=1000, depth=6, learning_rate=0.1, verbose=0,loss_function='Logloss', random_seed=42),\n",
    "    'SVM': SVC(),\n",
    "    'Gradient Classifier' : GradientBoostingClassifier(random_state=0),\n",
    "    'bernoulli naive bayes' : BernoulliNB()\n",
    "}\n",
    "\n",
    "for name, model in models.items():\n",
    "    model.fit(X_train, y_train)\n",
    "    y_pred = model.predict(X_test)\n",
    "    \n",
    "    accuracy = accuracy_score(y_test, y_pred)\n",
    "    precision = precision_score(y_test, y_pred)\n",
    "    recall = recall_score(y_test, y_pred)\n",
    "    \n",
    "    print(f'{name} Metrics:')\n",
    "    print(f'Accuracy: {accuracy:.2f}')\n",
    "    print(f'Precision: {precision:.2f}')\n",
    "    print(f'Recall: {recall:.2f}')\n",
    "\n",
    "    print('-' * 40)\n"
   ]
  },
  {
   "cell_type": "markdown",
   "id": "f6830e73",
   "metadata": {},
   "source": [
    "##\n",
    "- All the models are performing very well except gradient classifier \n",
    "- Best of the lot is KNN and SVM"
   ]
  },
  {
   "cell_type": "code",
   "execution_count": null,
   "id": "417cda5c",
   "metadata": {},
   "outputs": [],
   "source": []
  },
  {
   "cell_type": "code",
   "execution_count": null,
   "id": "e1469b26",
   "metadata": {},
   "outputs": [],
   "source": []
  },
  {
   "cell_type": "code",
   "execution_count": null,
   "id": "2af9d504",
   "metadata": {},
   "outputs": [],
   "source": []
  },
  {
   "cell_type": "code",
   "execution_count": null,
   "id": "51e89dbb",
   "metadata": {},
   "outputs": [],
   "source": []
  },
  {
   "cell_type": "code",
   "execution_count": null,
   "id": "f2fcfc83",
   "metadata": {},
   "outputs": [],
   "source": []
  },
  {
   "cell_type": "code",
   "execution_count": null,
   "id": "60dd4349",
   "metadata": {},
   "outputs": [],
   "source": []
  },
  {
   "cell_type": "code",
   "execution_count": null,
   "id": "79b95ccf",
   "metadata": {},
   "outputs": [],
   "source": []
  }
 ],
 "metadata": {
  "kernelspec": {
   "display_name": "Python 3",
   "language": "python",
   "name": "python3"
  },
  "language_info": {
   "codemirror_mode": {
    "name": "ipython",
    "version": 3
   },
   "file_extension": ".py",
   "mimetype": "text/x-python",
   "name": "python",
   "nbconvert_exporter": "python",
   "pygments_lexer": "ipython3",
   "version": "3.10.9"
  },
  "papermill": {
   "default_parameters": {},
   "duration": 77.540423,
   "end_time": "2022-02-15T19:15:14.533085",
   "environment_variables": {},
   "exception": null,
   "input_path": "__notebook__.ipynb",
   "output_path": "__notebook__.ipynb",
   "parameters": {},
   "start_time": "2022-02-15T19:13:56.992662",
   "version": "2.3.3"
  }
 },
 "nbformat": 4,
 "nbformat_minor": 5
}
